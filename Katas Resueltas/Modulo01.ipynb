{
 "cells": [
  {
   "cell_type": "markdown",
   "metadata": {},
   "source": [
    "Major> \"Cadet?\"\n",
    "\n",
    "Me> \"Yes, sir.\"\n",
    "\n",
    "Major> \"Can you build a program that displays me the date? The ship's computer didn't come with much in terms of utility programs, so we need to create the ones we need. Can I trust you with this?\"\n",
    "\n",
    "Me> \"Consider it done, sir.\"\n",
    "\n",
    "Major> \"Excelent.\""
   ]
  },
  {
   "cell_type": "markdown",
   "metadata": {},
   "source": [
    "## My first program"
   ]
  },
  {
   "cell_type": "code",
   "execution_count": 1,
   "metadata": {},
   "outputs": [
    {
     "name": "stdout",
     "output_type": "stream",
     "text": [
      "Today's date is: 2022-02-12\n"
     ]
    }
   ],
   "source": [
    "from datetime import date\n",
    "\n",
    "print(\"Today's date is:\", str(date.today()))"
   ]
  },
  {
   "cell_type": "markdown",
   "metadata": {},
   "source": [
    "## Build a unit converter"
   ]
  },
  {
   "cell_type": "markdown",
   "metadata": {},
   "source": [
    "Major> \"I need one thing more: a conversion program between parsecs and light-years. Having such a program of this type will be really useful on the bridge to plot our course.\"\n",
    "\n",
    "Me> \"I'll do it, sir.\""
   ]
  },
  {
   "cell_type": "code",
   "execution_count": 2,
   "metadata": {},
   "outputs": [
    {
     "name": "stdout",
     "output_type": "stream",
     "text": [
      "3.0 parsecs, are 9.78468 lightyears.\n"
     ]
    }
   ],
   "source": [
    "parsecs = float(input(\"Enter the number of parsecs: \"))\n",
    "lightyears = 3.26156 * parsecs\n",
    "\n",
    "if parsecs == 1:\n",
    "    print(str(parsecs) + \" parsec, is \" + str(lightyears) + \" lightyears.\")\n",
    "else:\n",
    "    print(str(parsecs) + \" parsecs, are \" + str(lightyears) + \" lightyears.\")"
   ]
  }
 ],
 "metadata": {
  "interpreter": {
   "hash": "f4c5ca126702c72a884f6a98afd535fc970ae16bce325be79669c88d7b5e87dc"
  },
  "kernelspec": {
   "display_name": "Python 3.10.2 ('env': venv)",
   "language": "python",
   "name": "python3"
  },
  "language_info": {
   "codemirror_mode": {
    "name": "ipython",
    "version": 3
   },
   "file_extension": ".py",
   "mimetype": "text/x-python",
   "name": "python",
   "nbconvert_exporter": "python",
   "pygments_lexer": "ipython3",
   "version": "3.10.2"
  },
  "orig_nbformat": 4
 },
 "nbformat": 4,
 "nbformat_minor": 2
}
