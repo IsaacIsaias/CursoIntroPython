{
 "cells": [
  {
   "cell_type": "markdown",
   "metadata": {},
   "source": [
    "## Exercise: Write declarations *if*, *else*, & *elif*"
   ]
  },
  {
   "cell_type": "markdown",
   "metadata": {},
   "source": [
    "For this exercise, I'll write conditional logic that prints a warning if an asteroid approaches the Earth too fast. The asteroid's speed varies depending on it´s close to the Sun, and any speed greater than 25 kilometers per second (km/h) deserves a warning.\n",
    "\n",
    "An asteroid it's coming, and travels with a speed of 49 km/h."
   ]
  },
  {
   "cell_type": "code",
   "execution_count": 1,
   "metadata": {},
   "outputs": [
    {
     "name": "stdout",
     "output_type": "stream",
     "text": [
      "Hey! Inminent Danger! An asteroid is approaching us too fast!\n"
     ]
    }
   ],
   "source": [
    "asteroid = 49\n",
    "\n",
    "if asteroid > 25:\n",
    "    print(\"Hey! Inminent Danger! An asteroid is approaching us too fast!\")\n",
    "else:\n",
    "    print(\"Nothing to worry about. We're safe, for the moment.\")"
   ]
  },
  {
   "cell_type": "markdown",
   "metadata": {},
   "source": [
    "If an asteroid enters Earth's atmosphere at a speed greater than or equal to 20 km/h, it sometimes produces a beam of light that can be seen from Earth.\n",
    "Write conditional logic that uses *if*, *else*, and *elif* statements to warn people around the world to look for an asteroid in the sky. \n",
    "\n",
    "There's one heading toward Earth now at speed of 19 km/h!"
   ]
  },
  {
   "cell_type": "code",
   "execution_count": 2,
   "metadata": {},
   "outputs": [
    {
     "name": "stdout",
     "output_type": "stream",
     "text": [
      "Hey! That's all folks!\n"
     ]
    }
   ],
   "source": [
    "asteroid = 19\n",
    "\n",
    "if asteroid > 20:\n",
    "    print(\"Wow, there's a beam of light at sky!\")\n",
    "elif asteroid == 20:\n",
    "    print(\"Wow, there's a beam of light at sky!\")\n",
    "else:\n",
    "    print(\"Hey! That's all folks!\")"
   ]
  },
  {
   "cell_type": "markdown",
   "metadata": {},
   "source": [
    "## Exercise: Use of operators *and* & *or*"
   ]
  },
  {
   "cell_type": "markdown",
   "metadata": {},
   "source": [
    "In this exercise, I'll learn more nuanced information about when asteroids represents a danger to Earth, and I'll use that information to improve our warning system. Here's the new information I need to know:\n",
    "\n",
    "- Asteroids smaller than 25 meters in their largest dimension will probably burn up as they enter the Earth's atmosphere.\n",
    "- If a part of an asteroid that is larger than 25 meters, but smaller than 1000 meters, was to hit Earth, it would cause a lot of damage.\n",
    "\n",
    "Also it was discussed that:\n",
    "- The speed of an asteroid varies depending on it's close to the Sun, and any speed greater than 25 km/h deserves a warning.\n",
    "- If an asteroid enters Earth's atmosphere at a speed greater than or equal to 20 km/h, it sometimes produces a beam of light than can be seen from Earth."
   ]
  },
  {
   "cell_type": "code",
   "execution_count": 3,
   "metadata": {},
   "outputs": [
    {
     "name": "stdout",
     "output_type": "stream",
     "text": [
      "Asteroid's size: 137.0 m\n",
      "Asteroid's speed: 20.0 km/s\n",
      "Inminent danger! A considerable size asteroid is approaching us!\n"
     ]
    }
   ],
   "source": [
    "size_asteroid = float(input(\"Size of the asteroid: \"))\n",
    "print(\"Asteroid's size:\", size_asteroid, \"m\")\n",
    "speed_asteroid = float(input(\"Speed of the asteroid: \"))\n",
    "print(\"Asteroid's speed:\", speed_asteroid, \"km/s\")\n",
    "\n",
    "if (size_asteroid <= 0 and speed_asteroid <= 0) or (size_asteroid <= 0):\n",
    "    print(\"Don't worry, someone was joking. ._.'\")\n",
    "elif speed_asteroid <= 0:\n",
    "    print(\"Speed is unusual... Check this.\")\n",
    "elif (size_asteroid >= 25 and size_asteroid < 1000) and speed_asteroid >= 25:\n",
    "    print(\"Please, be safe! Inminent danger! A considerable size asteroid is approaching us too fast!\")\n",
    "elif size_asteroid >= 25 and size_asteroid < 1000:\n",
    "    print(\"Inminent danger! A considerable size asteroid is approaching us!\")\n",
    "elif size_asteroid < 25 and speed_asteroid >= 25:\n",
    "    print(\"Stay alert, an asteroid is approaching us too fast!\")\n",
    "elif size_asteroid < 25 and speed_asteroid < 20:\n",
    "    print(\"Was there an asteroid?\")\n",
    "elif size_asteroid < 25 and (speed_asteroid >= 20 and speed_asteroid < 25):\n",
    "    print(\"Wow, there's a beam of light at sky!\")\n",
    "else:\n",
    "    print(\"Hey! That's all folks!\")"
   ]
  }
 ],
 "metadata": {
  "interpreter": {
   "hash": "f4c5ca126702c72a884f6a98afd535fc970ae16bce325be79669c88d7b5e87dc"
  },
  "kernelspec": {
   "display_name": "Python 3.10.2 ('env': venv)",
   "language": "python",
   "name": "python3"
  },
  "language_info": {
   "codemirror_mode": {
    "name": "ipython",
    "version": 3
   },
   "file_extension": ".py",
   "mimetype": "text/x-python",
   "name": "python",
   "nbconvert_exporter": "python",
   "pygments_lexer": "ipython3",
   "version": "3.10.2"
  },
  "orig_nbformat": 4
 },
 "nbformat": 4,
 "nbformat_minor": 2
}
