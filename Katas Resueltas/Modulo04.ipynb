{
 "cells": [
  {
   "cell_type": "markdown",
   "metadata": {},
   "source": [
    "## Exercise 1: Transform Strings"
   ]
  },
  {
   "cell_type": "markdown",
   "metadata": {},
   "source": [
    "I'll use string methods to modify text with facts about the Moon and then I'll extract information to create a brief summary.\n",
    "The text is as follows:"
   ]
  },
  {
   "cell_type": "code",
   "execution_count": 1,
   "metadata": {},
   "outputs": [],
   "source": [
    "text = \"\"\"Interesting facts about the Moon. The Moon is Earth's only satellite. There are several interesting facts about the Moon and how it affects life here on Earth. \n",
    "On average, the Moon moves 4cm away from the Earth every year. This yearly drift is not significant enough to cause immediate effects on Earth. The highest daylight temperature of the Moon is 127 C.\"\"\"\n"
   ]
  },
  {
   "cell_type": "markdown",
   "metadata": {},
   "source": [
    "The text is splitted:"
   ]
  },
  {
   "cell_type": "code",
   "execution_count": 2,
   "metadata": {},
   "outputs": [
    {
     "data": {
      "text/plain": [
       "['Interesting facts about the Moon',\n",
       " \"The Moon is Earth's only satellite\",\n",
       " 'There are several interesting facts about the Moon and how it affects life here on Earth',\n",
       " '\\nOn average, the Moon moves 4cm away from the Earth every year',\n",
       " 'This yearly drift is not significant enough to cause immediate effects on Earth',\n",
       " 'The highest daylight temperature of the Moon is 127 C.']"
      ]
     },
     "execution_count": 2,
     "metadata": {},
     "output_type": "execute_result"
    }
   ],
   "source": [
    "text_split = text.split(\". \")\n",
    "text_split"
   ]
  },
  {
   "cell_type": "markdown",
   "metadata": {},
   "source": [
    "Only are replaced all the '\\n' with an empty string:"
   ]
  },
  {
   "cell_type": "code",
   "execution_count": 3,
   "metadata": {},
   "outputs": [
    {
     "data": {
      "text/plain": [
       "['Interesting facts about the Moon',\n",
       " \"The Moon is Earth's only satellite\",\n",
       " 'There are several interesting facts about the Moon and how it affects life here on Earth',\n",
       " 'On average, the Moon moves 4cm away from the Earth every year',\n",
       " 'This yearly drift is not significant enough to cause immediate effects on Earth',\n",
       " 'The highest daylight temperature of the Moon is 127 C.']"
      ]
     },
     "execution_count": 3,
     "metadata": {},
     "output_type": "execute_result"
    }
   ],
   "source": [
    "import re\n",
    "\n",
    "text_sentences = [re.sub(\"\\n\", \"\", sentence) for sentence in text_split]\n",
    "text_sentences"
   ]
  },
  {
   "cell_type": "markdown",
   "metadata": {},
   "source": [
    "Now, some search keywords are defined to help me determine if a sentence contains a fact about the Moon:"
   ]
  },
  {
   "cell_type": "code",
   "execution_count": 4,
   "metadata": {},
   "outputs": [],
   "source": [
    "keywords = [\"satellite\", \"average\", \"temperature\", \"rotation\"]"
   ]
  },
  {
   "cell_type": "markdown",
   "metadata": {},
   "source": [
    "A loop is created to print only data of the Moon that is related to the keywords:"
   ]
  },
  {
   "cell_type": "code",
   "execution_count": 5,
   "metadata": {},
   "outputs": [
    {
     "name": "stdout",
     "output_type": "stream",
     "text": [
      "The Moon is Earth's only satellite\n",
      "On average, the Moon moves 4cm away from the Earth every year\n",
      "The highest daylight temperature of the Moon is 127 C.\n"
     ]
    }
   ],
   "source": [
    "for sentence in text_sentences:\n",
    "    for keyword in keywords:\n",
    "        if keyword in sentence:\n",
    "            print(sentence)\n",
    "            break"
   ]
  },
  {
   "cell_type": "markdown",
   "metadata": {},
   "source": [
    "Finally, the loop is updated only for change 'C' to 'Celsius'."
   ]
  },
  {
   "cell_type": "code",
   "execution_count": 6,
   "metadata": {},
   "outputs": [
    {
     "name": "stdout",
     "output_type": "stream",
     "text": [
      "The Moon is Earth's only satellite\n",
      "On average, the Moon moves 4cm away from the Earth every year\n",
      "The highest daylight temperature of the Moon is 127 Celsius\n"
     ]
    }
   ],
   "source": [
    "for sentence in text_sentences:\n",
    "    for keyword in keywords:\n",
    "        if keyword in sentence:\n",
    "            print(sentence.replace(\"C.\", \"Celsius\"))\n",
    "            break"
   ]
  },
  {
   "cell_type": "markdown",
   "metadata": {},
   "source": [
    "## Exercise 2: Formatting Strings"
   ]
  },
  {
   "cell_type": "markdown",
   "metadata": {},
   "source": [
    "In this exercise, variables containing key gravity data on several moons are used and then used to format and print the information.\n",
    "\n",
    "The format has to accommodate information about other moons, so it must be generic.\n",
    "\n",
    "Instead of replacing the variables in a long string as part of a paragraph, I'll use the information to present it in a tabular format. The result should be as follows:\n",
    "\n",
    "```\n",
    "Gravity Facts about Ganymede\n",
    "--------------------------------------------------------------------------------\n",
    "Planet Name: Mars\n",
    "Gravity on Ganymede: 1.4300000000000002 m/s2\n",
    "```"
   ]
  },
  {
   "cell_type": "code",
   "execution_count": 7,
   "metadata": {},
   "outputs": [],
   "source": [
    "name = \"Moon\"\n",
    "gravity = 0.00162 # in km/s^2\n",
    "planet = \"Earth\""
   ]
  },
  {
   "cell_type": "code",
   "execution_count": 8,
   "metadata": {},
   "outputs": [
    {
     "name": "stdout",
     "output_type": "stream",
     "text": [
      "Gravity between Moon and Earth\n"
     ]
    }
   ],
   "source": [
    "title = f\"Gravity between {name} and {planet}\"\n",
    "print(title)"
   ]
  },
  {
   "cell_type": "code",
   "execution_count": 9,
   "metadata": {},
   "outputs": [
    {
     "name": "stdout",
     "output_type": "stream",
     "text": [
      "--------------------------------------------------------------------------------\n",
      "Planet's name: Earth\n",
      "Gravity of Moon: 1.6199999999999999 m/s^2\n"
     ]
    }
   ],
   "source": [
    "facts = f'''{\"-\" * 80}\n",
    "Planet's name: {planet}\n",
    "Gravity of {name}: {gravity * 1000} m/s^2'''\n",
    "print(facts)"
   ]
  },
  {
   "cell_type": "code",
   "execution_count": 10,
   "metadata": {},
   "outputs": [
    {
     "name": "stdout",
     "output_type": "stream",
     "text": [
      "Gravity Between Moon And Earth\n",
      "--------------------------------------------------------------------------------\n",
      "Planet's name: Earth\n",
      "Gravity of Moon: 1.6199999999999999 m/s^2\n"
     ]
    }
   ],
   "source": [
    "template = f'''{title.title()}\n",
    "{facts}'''\n",
    "\n",
    "print(template)"
   ]
  },
  {
   "cell_type": "markdown",
   "metadata": {},
   "source": [
    "Now, it's time to use information of another moon to verify if the template works correctly."
   ]
  },
  {
   "cell_type": "code",
   "execution_count": 11,
   "metadata": {},
   "outputs": [],
   "source": [
    "planet = \"Mars\"\n",
    "gravity  = 0.00143\n",
    "name = \"Ganymede\""
   ]
  },
  {
   "cell_type": "code",
   "execution_count": 12,
   "metadata": {},
   "outputs": [
    {
     "name": "stdout",
     "output_type": "stream",
     "text": [
      "--------------------------------------------------------------------------------\n",
      "Planet's name: Earth\n",
      "Gravity of Moon: 1.6199999999999999 m/s^2\n"
     ]
    }
   ],
   "source": [
    "print(facts)"
   ]
  },
  {
   "cell_type": "markdown",
   "metadata": {},
   "source": [
    "The output doesn't show information about Mars, because the variables of f strings, once assigned, cannot be changed. So a new template is created with format()."
   ]
  },
  {
   "cell_type": "code",
   "execution_count": 13,
   "metadata": {},
   "outputs": [
    {
     "name": "stdout",
     "output_type": "stream",
     "text": [
      "\n",
      "Gravity data for Ganymede\n",
      "--------------------------------------------------------------------------------\n",
      "Planet's name: Mars\n",
      "Gravity of Ganymede: 0.00143 m/s^2\n",
      "\n"
     ]
    }
   ],
   "source": [
    "new_template = '''\n",
    "Gravity data for {name}\n",
    "--------------------------------------------------------------------------------\n",
    "Planet's name: {planet}\n",
    "Gravity of {name}: {gravity} m/s^2\n",
    "'''\n",
    "\n",
    "print(new_template.format(name=name, planet=planet, gravity=gravity))"
   ]
  },
  {
   "cell_type": "code",
   "execution_count": 14,
   "metadata": {},
   "outputs": [
    {
     "name": "stdout",
     "output_type": "stream",
     "text": [
      "\n",
      "Gravity data for Ganymede\n",
      "--------------------------------------------------------------------------------\n",
      "Planet's name: Mars\n",
      "Gravity of Ganymede: 1.4300000000000002 m/s^2\n",
      "\n"
     ]
    }
   ],
   "source": [
    "print(new_template.format(name=name, planet=planet, gravity=gravity*1000))"
   ]
  }
 ],
 "metadata": {
  "interpreter": {
   "hash": "f4c5ca126702c72a884f6a98afd535fc970ae16bce325be79669c88d7b5e87dc"
  },
  "kernelspec": {
   "display_name": "Python 3.10.2 ('env': venv)",
   "language": "python",
   "name": "python3"
  },
  "language_info": {
   "codemirror_mode": {
    "name": "ipython",
    "version": 3
   },
   "file_extension": ".py",
   "mimetype": "text/x-python",
   "name": "python",
   "nbconvert_exporter": "python",
   "pygments_lexer": "ipython3",
   "version": "3.10.2"
  },
  "orig_nbformat": 4
 },
 "nbformat": 4,
 "nbformat_minor": 2
}
