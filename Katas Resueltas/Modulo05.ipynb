{
 "cells": [
  {
   "cell_type": "markdown",
   "metadata": {},
   "source": [
    "## Exercise 1: Using Arithmetic Operators"
   ]
  },
  {
   "cell_type": "markdown",
   "metadata": {},
   "source": [
    "In this program, I'll calculate the distance between two planets."
   ]
  },
  {
   "cell_type": "code",
   "execution_count": 1,
   "metadata": {},
   "outputs": [],
   "source": [
    "EARTH = 149_597_870\n",
    "JUPITER = 778_547_200"
   ]
  },
  {
   "cell_type": "markdown",
   "metadata": {},
   "source": [
    "### Perform the operation"
   ]
  },
  {
   "cell_type": "code",
   "execution_count": 2,
   "metadata": {},
   "outputs": [
    {
     "name": "stdout",
     "output_type": "stream",
     "text": [
      "The distance between Earth and Jupiter is: 628949330 km or 390577533.93 miles.\n"
     ]
    }
   ],
   "source": [
    "MILES = 0.621\n",
    "distance_Ert_Jup = abs(EARTH - JUPITER)\n",
    "print(\"The distance between Earth and Jupiter is:\", distance_Ert_Jup, \"km or\", distance_Ert_Jup * MILES, \"miles.\")"
   ]
  },
  {
   "cell_type": "markdown",
   "metadata": {},
   "source": [
    "## Exercise 2: Converting Strings in Numbers and Using Absolute Values"
   ]
  },
  {
   "cell_type": "markdown",
   "metadata": {},
   "source": [
    "### Create an application to work with numbers and user inputs"
   ]
  },
  {
   "cell_type": "markdown",
   "metadata": {},
   "source": [
    "The application is going to read the distance from the Sun for two planets, then this distance is shown."
   ]
  },
  {
   "cell_type": "markdown",
   "metadata": {},
   "source": [
    "### Read values and Convert to Number"
   ]
  },
  {
   "cell_type": "code",
   "execution_count": 3,
   "metadata": {},
   "outputs": [],
   "source": [
    "planets = {\"MERCURY\" : 57_910_000, \"VENUS\" : 108_200_000, \"EARTH\" : 149_600_000, \"MARS\" : 227_900_000, \"JUPITER\" : 778_600_000, \"SATURN\" : 1_433_500_000, \"URANUS\" : 2_872_500_000, \"NEPTUNE\" : 4_495_100_000,}"
   ]
  },
  {
   "cell_type": "code",
   "execution_count": 4,
   "metadata": {},
   "outputs": [
    {
     "name": "stdout",
     "output_type": "stream",
     "text": [
      " PLANET      |   DISTANCE    \n",
      "-------------|---------------\n",
      " Mercury     |    57910000\n",
      " Venus       |    108200000\n",
      " Earth       |    149600000\n",
      " Mars        |    227900000\n",
      " Jupiter     |    778600000\n",
      " Saturn      |    1433500000\n",
      " Uranus      |    2872500000\n",
      " Neptune     |    4495100000\n"
     ]
    }
   ],
   "source": [
    "print(\" PLANET      |   DISTANCE    \")\n",
    "print(\"-------------|---------------\")\n",
    "print(\" Mercury     |   \", planets[\"MERCURY\"])\n",
    "print(\" Venus       |   \", planets[\"VENUS\"])\n",
    "print(\" Earth       |   \", planets[\"EARTH\"])\n",
    "print(\" Mars        |   \", planets[\"MARS\"])\n",
    "print(\" Jupiter     |   \", planets[\"JUPITER\"])\n",
    "print(\" Saturn      |   \", planets[\"SATURN\"])\n",
    "print(\" Uranus      |   \", planets[\"URANUS\"])\n",
    "print(\" Neptune     |   \", planets[\"NEPTUNE\"])"
   ]
  },
  {
   "cell_type": "code",
   "execution_count": 5,
   "metadata": {},
   "outputs": [],
   "source": [
    "first_planet = input(\"Please, enter the name of the first planet: \").upper()\n",
    "second_planet = input(\"Now, of the second planet: \").upper()"
   ]
  },
  {
   "cell_type": "markdown",
   "metadata": {},
   "source": [
    "### Perform the operation and convert to an absolute number"
   ]
  },
  {
   "cell_type": "code",
   "execution_count": 6,
   "metadata": {},
   "outputs": [
    {
     "name": "stdout",
     "output_type": "stream",
     "text": [
      "Distance between Earth and Uranus is: 2722900000 km\n"
     ]
    }
   ],
   "source": [
    "distance_km = abs(planets[first_planet] - planets[second_planet])\n",
    "print(\"Distance between {f_p} and {s_p}\".format(f_p=first_planet.title(), s_p=second_planet.title()), \"is:\", distance_km, \"km\")"
   ]
  },
  {
   "cell_type": "code",
   "execution_count": 7,
   "metadata": {},
   "outputs": [
    {
     "name": "stdout",
     "output_type": "stream",
     "text": [
      "Distance between Earth and Uranus is: 1690920900.0 miles\n"
     ]
    }
   ],
   "source": [
    "distance_miles = distance_km * MILES\n",
    "print(\"Distance between {f_p} and {s_p}\".format(f_p=first_planet.title(), s_p=second_planet.title()), \"is:\", distance_miles, \"miles\")"
   ]
  }
 ],
 "metadata": {
  "interpreter": {
   "hash": "f4c5ca126702c72a884f6a98afd535fc970ae16bce325be79669c88d7b5e87dc"
  },
  "kernelspec": {
   "display_name": "Python 3.10.2 ('env': venv)",
   "language": "python",
   "name": "python3"
  },
  "language_info": {
   "codemirror_mode": {
    "name": "ipython",
    "version": 3
   },
   "file_extension": ".py",
   "mimetype": "text/x-python",
   "name": "python",
   "nbconvert_exporter": "python",
   "pygments_lexer": "ipython3",
   "version": "3.10.2"
  },
  "orig_nbformat": 4
 },
 "nbformat": 4,
 "nbformat_minor": 2
}
