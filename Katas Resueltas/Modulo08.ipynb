{
 "cells": [
  {
   "cell_type": "markdown",
   "metadata": {},
   "source": [
    "## Exercise 1: Creation of Python dictionaries"
   ]
  },
  {
   "cell_type": "markdown",
   "metadata": {},
   "source": [
    "A new dictionary, *planet*, is created and it stores information about Mars."
   ]
  },
  {
   "cell_type": "code",
   "execution_count": 1,
   "metadata": {},
   "outputs": [],
   "source": [
    "planet = {\n",
    "    \"name\" : \"Mars\",\n",
    "    \"moons\" : 2,\n",
    "}"
   ]
  },
  {
   "cell_type": "code",
   "execution_count": 2,
   "metadata": {},
   "outputs": [
    {
     "name": "stdout",
     "output_type": "stream",
     "text": [
      "Mars has 2 moons.\n"
     ]
    }
   ],
   "source": [
    "print(planet.get(\"name\"), \"has\", planet.get(\"moons\"), \"moons.\")"
   ]
  },
  {
   "cell_type": "markdown",
   "metadata": {},
   "source": [
    "The dictionary is updated with circunference information."
   ]
  },
  {
   "cell_type": "code",
   "execution_count": 3,
   "metadata": {},
   "outputs": [
    {
     "data": {
      "text/plain": [
       "{'name': 'Mars',\n",
       " 'moons': 2,\n",
       " 'circunference (km)': {'polar': 6752, 'equatorial': 6792}}"
      ]
     },
     "execution_count": 3,
     "metadata": {},
     "output_type": "execute_result"
    }
   ],
   "source": [
    "planet.update({ \"circunference (km)\" : {\"polar\" : 6752, \"equatorial\" : 6792 } })\n",
    "planet"
   ]
  },
  {
   "cell_type": "code",
   "execution_count": 4,
   "metadata": {},
   "outputs": [
    {
     "name": "stdout",
     "output_type": "stream",
     "text": [
      "Mars's polar circunference is 6752 km.\n",
      "Mars's equatorial circunference is 6792 km.\n"
     ]
    }
   ],
   "source": [
    "print(planet.get(\"name\") + \"'s polar circunference is\", planet.get(\"circunference (km)\").get(\"polar\"), \"km.\")\n",
    "print(planet.get(\"name\") + \"'s equatorial circunference is\", planet.get(\"circunference (km)\").get(\"equatorial\"), \"km.\")"
   ]
  },
  {
   "cell_type": "markdown",
   "metadata": {},
   "source": [
    "## Exercise 2: Dynamic programming with dictionaries"
   ]
  },
  {
   "cell_type": "markdown",
   "metadata": {},
   "source": [
    "Total moons in the solar system is gonna be calculated, as well as, the mean of moons per planet."
   ]
  },
  {
   "cell_type": "code",
   "execution_count": 5,
   "metadata": {},
   "outputs": [],
   "source": [
    "planet_moons = {\n",
    "    \"mercury\" : 0,\n",
    "    \"venus\" : 0,\n",
    "    \"earth\" : 1,\n",
    "    \"mars\" : 2,\n",
    "    \"jupyter\" : 79,\n",
    "    \"saturn\" : 82,\n",
    "    \"uranus\" : 27,\n",
    "    \"neptune\" : 14,\n",
    "    \"pluto\" : 5,\n",
    "    \"haumea\" : 2,\n",
    "    \"makemake\" : 1,\n",
    "    \"eris\" : 1,\n",
    "}"
   ]
  },
  {
   "cell_type": "code",
   "execution_count": 6,
   "metadata": {},
   "outputs": [
    {
     "data": {
      "text/plain": [
       "dict_values([0, 0, 1, 2, 79, 82, 27, 14, 5, 2, 1, 1])"
      ]
     },
     "execution_count": 6,
     "metadata": {},
     "output_type": "execute_result"
    }
   ],
   "source": [
    "moons = planet_moons.values()\n",
    "moons"
   ]
  },
  {
   "cell_type": "code",
   "execution_count": 7,
   "metadata": {},
   "outputs": [
    {
     "data": {
      "text/plain": [
       "dict_keys(['mercury', 'venus', 'earth', 'mars', 'jupyter', 'saturn', 'uranus', 'neptune', 'pluto', 'haumea', 'makemake', 'eris'])"
      ]
     },
     "execution_count": 7,
     "metadata": {},
     "output_type": "execute_result"
    }
   ],
   "source": [
    "planets = planet_moons.keys()\n",
    "planets"
   ]
  },
  {
   "cell_type": "code",
   "execution_count": 8,
   "metadata": {},
   "outputs": [
    {
     "data": {
      "text/plain": [
       "214"
      ]
     },
     "execution_count": 8,
     "metadata": {},
     "output_type": "execute_result"
    }
   ],
   "source": [
    "total_moons = 0\n",
    "for moon in moons:\n",
    "    total_moons += moon\n",
    "\n",
    "total_moons"
   ]
  },
  {
   "cell_type": "code",
   "execution_count": 9,
   "metadata": {},
   "outputs": [
    {
     "data": {
      "text/plain": [
       "17.833333333333332"
      ]
     },
     "execution_count": 9,
     "metadata": {},
     "output_type": "execute_result"
    }
   ],
   "source": [
    "mean_moons  = total_moons / len(planets)\n",
    "mean_moons"
   ]
  },
  {
   "cell_type": "code",
   "execution_count": 10,
   "metadata": {},
   "outputs": [
    {
     "name": "stdout",
     "output_type": "stream",
     "text": [
      "There are 214 moons in our Solar System.\n",
      "There are 17.833333333333332 moons per planet or planetoid.\n"
     ]
    }
   ],
   "source": [
    "print(\"There are\", total_moons, \"moons in our Solar System.\")\n",
    "print(\"There are\", mean_moons, \"moons per planet or planetoid.\")"
   ]
  }
 ],
 "metadata": {
  "interpreter": {
   "hash": "f4c5ca126702c72a884f6a98afd535fc970ae16bce325be79669c88d7b5e87dc"
  },
  "kernelspec": {
   "display_name": "Python 3.10.2 ('env': venv)",
   "language": "python",
   "name": "python3"
  },
  "language_info": {
   "codemirror_mode": {
    "name": "ipython",
    "version": 3
   },
   "file_extension": ".py",
   "mimetype": "text/x-python",
   "name": "python",
   "nbconvert_exporter": "python",
   "pygments_lexer": "ipython3",
   "version": "3.10.2"
  },
  "orig_nbformat": 4
 },
 "nbformat": 4,
 "nbformat_minor": 2
}
