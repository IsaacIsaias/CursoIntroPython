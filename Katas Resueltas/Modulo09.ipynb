{
 "cells": [
  {
   "cell_type": "markdown",
   "metadata": {},
   "source": [
    "## Exercise 1: Use of Python functions"
   ]
  },
  {
   "cell_type": "markdown",
   "metadata": {},
   "source": [
    "### Working with arguments in functions"
   ]
  },
  {
   "cell_type": "markdown",
   "metadata": {},
   "source": [
    "In this exercise, I'll build a fuel report that requires information from various fuel locations throughout the ship.\n",
    "\n",
    "First, a function is defined that reads 3 fuel tanks and show the total mean."
   ]
  },
  {
   "cell_type": "code",
   "execution_count": 1,
   "metadata": {},
   "outputs": [],
   "source": [
    "def fuel_report(LOX_tank, LH2_tank):\n",
    "    mean = (LOX_tank + LH2_tank) / 2\n",
    "    return f\"\"\"Fuel Report:\n",
    "----------------------------\n",
    "    LOX = {LOX_tank} gallons\n",
    "    LH2 = {LH2_tank} gallons\n",
    "----------------------------\n",
    "    Mean = {mean} gallons\n",
    "    \"\"\""
   ]
  },
  {
   "cell_type": "markdown",
   "metadata": {},
   "source": [
    "The last function is called."
   ]
  },
  {
   "cell_type": "code",
   "execution_count": 2,
   "metadata": {},
   "outputs": [
    {
     "name": "stdout",
     "output_type": "stream",
     "text": [
      "Fuel Report:\n",
      "----------------------------\n",
      "    LOX = 143000 gallons\n",
      "    LH2 = 383000 gallons\n",
      "----------------------------\n",
      "    Mean = 263000.0 gallons\n",
      "    \n"
     ]
    }
   ],
   "source": [
    "print(fuel_report(143_000, 383_000))"
   ]
  },
  {
   "cell_type": "markdown",
   "metadata": {},
   "source": [
    "The mean calculation is extracted from the function above in a new function in order to improves readability."
   ]
  },
  {
   "cell_type": "code",
   "execution_count": 3,
   "metadata": {},
   "outputs": [],
   "source": [
    "def mean(values):\n",
    "    total_sum = sum(values)\n",
    "    total_items = len(values)\n",
    "    return total_sum / total_items"
   ]
  },
  {
   "cell_type": "code",
   "execution_count": 4,
   "metadata": {},
   "outputs": [
    {
     "data": {
      "text/plain": [
       "120.0"
      ]
     },
     "execution_count": 4,
     "metadata": {},
     "output_type": "execute_result"
    }
   ],
   "source": [
    "mean([120, 90, 150])"
   ]
  },
  {
   "cell_type": "markdown",
   "metadata": {},
   "source": [
    "Now, the first function is updated with the new function to calculate the mean."
   ]
  },
  {
   "cell_type": "code",
   "execution_count": 5,
   "metadata": {},
   "outputs": [],
   "source": [
    "def fuel_report(LOX_tank, LH2_tank):\n",
    "    return f\"\"\"Fuel Report:\n",
    "----------------------------\n",
    "    LOX = {LOX_tank} gallons\n",
    "    LH2 = {LH2_tank} gallons\n",
    "----------------------------\n",
    "    Mean = {mean([LOX_tank, LH2_tank])} gallons\n",
    "    \"\"\""
   ]
  },
  {
   "cell_type": "code",
   "execution_count": 6,
   "metadata": {},
   "outputs": [
    {
     "name": "stdout",
     "output_type": "stream",
     "text": [
      "Fuel Report:\n",
      "----------------------------\n",
      "    LOX = 143000 gallons\n",
      "    LH2 = 383000 gallons\n",
      "----------------------------\n",
      "    Mean = 263000.0 gallons\n",
      "    \n"
     ]
    }
   ],
   "source": [
    "print(fuel_report(143_000, 383_000))"
   ]
  },
  {
   "cell_type": "markdown",
   "metadata": {},
   "source": [
    "## Exercise 2: Work with **args* and ***kwargs*"
   ]
  },
  {
   "cell_type": "markdown",
   "metadata": {},
   "source": [
    "### Work with **args* and ***kwargs* in fuctions"
   ]
  },
  {
   "cell_type": "markdown",
   "metadata": {},
   "source": [
    "In this exercise, I'll build a ship report that requires several pieces of information, such as time to destination, etc.\n",
    "\n",
    "The next function, create an accurate mission report."
   ]
  },
  {
   "cell_type": "code",
   "execution_count": 7,
   "metadata": {},
   "outputs": [
    {
     "name": "stdout",
     "output_type": "stream",
     "text": [
      "\n",
      "    Mission to L2\n",
      "    ----------------------------\n",
      "    Total travel time: 630 minutes\n",
      "    Total fuel left: 526000 gallons\n",
      "    Total destination distance: 931500.0 miles\n",
      "    \n"
     ]
    }
   ],
   "source": [
    "def mission_report(prelaunch_time, flight_time, destination, distance_destination, LOX_tank, LH2_tank):\n",
    "    general_report = f\"\"\"\n",
    "    Mission to {destination}\n",
    "    ----------------------------\n",
    "    Total travel time: {prelaunch_time + flight_time} minutes\n",
    "    Total fuel left: {LOX_tank + LH2_tank} gallons\n",
    "    Total destination distance: {distance_destination * 0.621} miles\n",
    "    \"\"\"\n",
    "    return general_report\n",
    "\n",
    "print(mission_report(75, 555, \"L2\", 1_500_000, 143_000, 383_000))"
   ]
  },
  {
   "cell_type": "markdown",
   "metadata": {},
   "source": [
    "Now, the function is adapted for additional minutes."
   ]
  },
  {
   "cell_type": "code",
   "execution_count": 8,
   "metadata": {},
   "outputs": [
    {
     "name": "stdout",
     "output_type": "stream",
     "text": [
      "\n",
      "    Mission to L2\n",
      "    ----------------------------\n",
      "    Total travel time: 870 minutes\n",
      "    Total fuel left: 526000\n",
      "    \n"
     ]
    }
   ],
   "source": [
    "def mission_report(destination, *minutes, **fuel_tanks):\n",
    "    general_report = f\"\"\"\n",
    "    Mission to {destination}\n",
    "    ----------------------------\n",
    "    Total travel time: {sum(minutes)} minutes\n",
    "    Total fuel left: {sum(fuel_tanks.values())}\n",
    "    \"\"\"\n",
    "    return general_report\n",
    "\n",
    "print(mission_report(\"L2\", 75, 555, 240, LOX=143_000, LH2=383_000))"
   ]
  },
  {
   "cell_type": "markdown",
   "metadata": {},
   "source": [
    "Finally, the function is adapted to show the name of each tank and its respective amount of fuel remaining."
   ]
  },
  {
   "cell_type": "code",
   "execution_count": 9,
   "metadata": {},
   "outputs": [
    {
     "name": "stdout",
     "output_type": "stream",
     "text": [
      "\n",
      "    Mission to L2\n",
      "    ----------------------------\n",
      "    Total travel time: 730 minutes\n",
      "    ----------------------------\n",
      "    Total fuel left: 454000\n",
      "    LOX tank ---> 123000 gallons left\n",
      "    LH2 tank ---> 331000 gallons left\n",
      "\n"
     ]
    }
   ],
   "source": [
    "def mission_report(destination, *minutes, **fuel_tanks):\n",
    "    general_report = f\"\"\"\n",
    "    Mission to {destination}\n",
    "    ----------------------------\n",
    "    Total travel time: {sum(minutes)} minutes\n",
    "    ----------------------------\n",
    "    Total fuel left: {sum(fuel_tanks.values())}\n",
    "    \"\"\"\n",
    "    for tank_name, gallons in fuel_tanks.items():\n",
    "        if tank_name >= tank_name[1]:\n",
    "            general_report += f\"    {tank_name} tank ---> {gallons} gallons left\\n\"\n",
    "        else:\n",
    "            general_report += f\"{tank_name} tank ---> {gallons} gallons left\\n\"\n",
    "    return general_report\n",
    "\n",
    "print(mission_report(\"L2\", 80, 585, 65, LOX=123_000, LH2=331_000))"
   ]
  }
 ],
 "metadata": {
  "interpreter": {
   "hash": "f4c5ca126702c72a884f6a98afd535fc970ae16bce325be79669c88d7b5e87dc"
  },
  "kernelspec": {
   "display_name": "Python 3.10.2 ('env': venv)",
   "language": "python",
   "name": "python3"
  },
  "language_info": {
   "codemirror_mode": {
    "name": "ipython",
    "version": 3
   },
   "file_extension": ".py",
   "mimetype": "text/x-python",
   "name": "python",
   "nbconvert_exporter": "python",
   "pygments_lexer": "ipython3",
   "version": "3.10.2"
  },
  "orig_nbformat": 4
 },
 "nbformat": 4,
 "nbformat_minor": 2
}
